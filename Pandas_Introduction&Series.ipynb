{
 "cells": [
  {
   "cell_type": "code",
   "execution_count": 2,
   "id": "5fcbe61b",
   "metadata": {},
   "outputs": [],
   "source": [
    "import numpy as np"
   ]
  },
  {
   "cell_type": "markdown",
   "id": "db2f5e2a",
   "metadata": {},
   "source": [
    "## Pandas\n",
    "\n",
    "<a href = 'https://meli.udemy.com/course/python-for-machine-learning-data-science-masterclass/learn/lecture/17772980#content'>Aula introdutória</a>\n",
    "\n",
    "<a href = 'https://pandas.pydata.org/docs/getting_started/overview.html'>Doc Pandas</a>\n",
    "\n",
    "Está entre os mais utilizados no Python devido a sua utilidade para realizar análise de dados pelo seu desempenho e capacidade de simplificar tarefas complicadas e manipulação de dados. Fornece estruturas de dados rápidas, flexíveis e expressivas, projetadas para facilitar o trabalho com dados esruturados (tabulares, multidimensionais, potencialmente heterogêneos) e de séries temporais."
   ]
  },
  {
   "cell_type": "code",
   "execution_count": 3,
   "id": "2dfe8ec0",
   "metadata": {},
   "outputs": [],
   "source": [
    "import pandas as pd"
   ]
  },
  {
   "cell_type": "markdown",
   "id": "09b0f65a",
   "metadata": {},
   "source": [
    "### Panda Series\n",
    "\n",
    "<a href= 'https://meli.udemy.com/course/python-for-machine-learning-data-science-masterclass/learn/lecture/17772982#content'>Aula01 Pandas Series</a>\n",
    "\n",
    "<a href= 'https://meli.udemy.com/course/python-for-machine-learning-data-science-masterclass/learn/lecture/22971096#content'>Aula02 Pandas Series</a>\n",
    "\n",
    "<a href= 'https://pandas.pydata.org/docs/reference/series.html'>Doc Pandas Series</a>\n",
    "\n",
    "São matrizes unidimensionais rotuladas capazes de armazenar dados de qualquer tipo.\n",
    "Os rótulos dos eixos são chamados coletivamente de índices. Suporta tanto a indexação inteira, quanto a baseada em rótulo e fornece uma série de métodos para executar operações envolvendo o índice.\n",
    "\n",
    "Um Séries pode ser criada a partir de um array ou a partir de um dicionario."
   ]
  },
  {
   "cell_type": "code",
   "execution_count": null,
   "id": "b69b0657",
   "metadata": {},
   "outputs": [],
   "source": [
    "# Ao aplicar o método Series em um array, faz-se necessário identificar os parametros data e index, conforme\n",
    "# solicitados em sua assinatura inicial(para ver assinatura, digite o método e clique em shift - tab). \n",
    "# Veja abaixo:\n",
    "\n",
    "Init signature:\n",
    "pd.Series(\n",
    "    data=None,\n",
    "    index=None,\n",
    "    dtype: 'Dtype | None' = None,\n",
    "    name=None,\n",
    "    copy: 'bool' = False,\n",
    "    fastpath: 'bool' = False,\n",
    ")"
   ]
  },
  {
   "cell_type": "code",
   "execution_count": 46,
   "id": "ff30a388",
   "metadata": {},
   "outputs": [
    {
     "data": {
      "text/plain": [
       "USA    1776\n",
       "BRA    1500\n",
       "MEX    1821\n",
       "dtype: int64"
      ]
     },
     "execution_count": 46,
     "metadata": {},
     "output_type": "execute_result"
    }
   ],
   "source": [
    "np_data = np.array([1776, 1500, 1821])\n",
    "np_index = np.array(['USA', 'BRA', 'MEX'])\n",
    "\n",
    "np_array_series = pd.Series(data = np_data, index = np_index)\n",
    "#opcionalmente basta colocar o data e o index na posição correta\n",
    "#pd.Series(np_data, np_index), ou ainda, mantendo a ordem, pd.Series([1776, 1500, 1821], ['USA', 'BRA', 'MEX'])\n",
    "\n",
    "np_array_series"
   ]
  },
  {
   "cell_type": "code",
   "execution_count": 47,
   "id": "8c19ef19",
   "metadata": {},
   "outputs": [
    {
     "data": {
      "text/plain": [
       "USA    1776\n",
       "BRA    1500\n",
       "MEX    1821\n",
       "dtype: int64"
      ]
     },
     "execution_count": 47,
     "metadata": {},
     "output_type": "execute_result"
    }
   ],
   "source": [
    "#Series a partir de um dicionário, automaticamente, a lib ja associa \n",
    "#a chave ao index e o valor ao data.\n",
    "\n",
    "np_dict = {'USA': 1776, 'BRA': 1500, 'MEX': 1821}\n",
    "np_dict_series = pd.Series(np_dict)\n",
    "np_dict_series\n",
    "# opcionalmente podemo escrever pd.Series({'USA': 1776, 'BRA': 1500, 'MEX': 1821})"
   ]
  },
  {
   "cell_type": "code",
   "execution_count": 41,
   "id": "aecaf3c8",
   "metadata": {},
   "outputs": [
    {
     "data": {
      "text/plain": [
       "1500"
      ]
     },
     "execution_count": 41,
     "metadata": {},
     "output_type": "execute_result"
    }
   ],
   "source": [
    "# para acessar qualquer valor de Series podemos acessar pelo indice numérico, porem precisariamos \n",
    "# memorizar cada valor de cada índice. Então podemos pegar pela chave, que neste caso corresponde ao índice rotulado.\n",
    "\n",
    "np_array_series['BRA']"
   ]
  },
  {
   "cell_type": "code",
   "execution_count": 42,
   "id": "87fe1fd9",
   "metadata": {},
   "outputs": [
    {
     "data": {
      "text/plain": [
       "1821"
      ]
     },
     "execution_count": 42,
     "metadata": {},
     "output_type": "execute_result"
    }
   ],
   "source": [
    "np_dict_series['MEX']"
   ]
  },
  {
   "cell_type": "code",
   "execution_count": 48,
   "id": "8d7d29c4",
   "metadata": {},
   "outputs": [],
   "source": [
    "# Imaginary Sales Data for 1st and 2nd Quarters for Global Company\n",
    "\n",
    "q1 = {'Japan': 80, 'China': 450, 'India': 200, 'USA': 250}\n",
    "q2 = {'Brazil': 100,'China': 500, 'India': 210,'USA': 260}"
   ]
  },
  {
   "cell_type": "code",
   "execution_count": 7,
   "id": "9478af2b",
   "metadata": {},
   "outputs": [
    {
     "data": {
      "text/plain": [
       "Japan     80\n",
       "China    450\n",
       "India    200\n",
       "USA      250\n",
       "dtype: int64"
      ]
     },
     "execution_count": 7,
     "metadata": {},
     "output_type": "execute_result"
    }
   ],
   "source": [
    "sales_q1 = pd.Series(q1)\n",
    "sales_q1"
   ]
  },
  {
   "cell_type": "code",
   "execution_count": 11,
   "id": "027a2605",
   "metadata": {},
   "outputs": [
    {
     "data": {
      "text/plain": [
       "Brazil    100\n",
       "China     500\n",
       "India     210\n",
       "USA       260\n",
       "dtype: int64"
      ]
     },
     "execution_count": 11,
     "metadata": {},
     "output_type": "execute_result"
    }
   ],
   "source": [
    "sales_q2 = pd.Series(q2)\n",
    "sales_q2"
   ]
  },
  {
   "cell_type": "code",
   "execution_count": 14,
   "id": "b47e5110",
   "metadata": {},
   "outputs": [
    {
     "data": {
      "text/plain": [
       "Index(['Japan', 'China', 'India', 'USA'], dtype='object')"
      ]
     },
     "execution_count": 14,
     "metadata": {},
     "output_type": "execute_result"
    }
   ],
   "source": [
    "# para sabermos qual o nome correto dos indices rotulados - chaves - pois os mesmos sao case sensitive, \n",
    "# podemos acessá-las da forma abaixo.\n",
    "sales_q1.keys()"
   ]
  },
  {
   "cell_type": "code",
   "execution_count": 22,
   "id": "0c5e1732",
   "metadata": {},
   "outputs": [
    {
     "data": {
      "text/plain": [
       "Brazil      NaN\n",
       "China     950.0\n",
       "India     410.0\n",
       "Japan       NaN\n",
       "USA       510.0\n",
       "dtype: float64"
      ]
     },
     "execution_count": 22,
     "metadata": {},
     "output_type": "execute_result"
    }
   ],
   "source": [
    "# se quiséssemos criar uma soma dos dois primeiros trimestres, poderíamos simplesmente juntar as duas tabelas correto?\n",
    "sales_q1 + sales_q2 "
   ]
  },
  {
   "cell_type": "code",
   "execution_count": 27,
   "id": "1ab0a8ea",
   "metadata": {},
   "outputs": [
    {
     "data": {
      "text/plain": [
       "Brazil    100.0\n",
       "China     950.0\n",
       "India     410.0\n",
       "Japan      80.0\n",
       "USA       510.0\n",
       "dtype: float64"
      ]
     },
     "execution_count": 27,
     "metadata": {},
     "output_type": "execute_result"
    }
   ],
   "source": [
    "#Como vimos, os dados que nao estavam presentes em um dos quarters, foi devolvido NaN, pois estamos tentando \n",
    "#somar algo inexistente. O correto seria, criar as chaves que nao existem nos quarters necessarios e inicia-los\n",
    "#com zero. Mas podemos fazer isso, sem a necessidade de criá-los manualmente.\n",
    "\n",
    "sales_half_year = sales_q1.add(sales_q2, fill_value=0) \n",
    "#estamos dizendo: adiciona o q2 no q1 e os inexistente, independente do quarter, preencha com zero.\n",
    "\n",
    "sales_half_year"
   ]
  },
  {
   "cell_type": "code",
   "execution_count": 29,
   "id": "3a99ad66",
   "metadata": {},
   "outputs": [
    {
     "data": {
      "text/plain": [
       "Brazil    100\n",
       "China     950\n",
       "India     410\n",
       "Japan      80\n",
       "USA       510\n",
       "dtype: int64"
      ]
     },
     "execution_count": 29,
     "metadata": {},
     "output_type": "execute_result"
    }
   ],
   "source": [
    "#por padrão serão devolvidos os valores em float, sendo que originalmente são integers, mas podemos convertê-los.\n",
    "\n",
    "sales_half_year.astype(dtype='int64')"
   ]
  }
 ],
 "metadata": {
  "kernelspec": {
   "display_name": "Python 3 (ipykernel)",
   "language": "python",
   "name": "python3"
  },
  "language_info": {
   "codemirror_mode": {
    "name": "ipython",
    "version": 3
   },
   "file_extension": ".py",
   "mimetype": "text/x-python",
   "name": "python",
   "nbconvert_exporter": "python",
   "pygments_lexer": "ipython3",
   "version": "3.9.13"
  }
 },
 "nbformat": 4,
 "nbformat_minor": 5
}
