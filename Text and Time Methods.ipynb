{
 "cells": [
  {
   "cell_type": "markdown",
   "id": "8c546427",
   "metadata": {},
   "source": [
    "#### Text Methods for String Data\n",
    "\n",
    "[Doc Working with Text Data](https://pandas.pydata.org/docs/user_guide/text.html)\n",
    "\n",
    "[Aula Methods for String](https://meli.udemy.com/course/python-for-machine-learning-data-science-masterclass/learn/lecture/17773034?start=60#content)\n",
    "\n",
    "Constantemente, os dados de texto precisam ser limpos ou manipulados para processamento. Pandas possui muitos métodos para lidar com textos.\n",
    "\n",
    "Dica: usar a biblioteca str - métodos isdigit(), upper(), lower(), split(), strip(), capitalize() - coloca a primeira maiuscula, replace().\n"
   ]
  },
  {
   "cell_type": "markdown",
   "id": "63fe3586",
   "metadata": {},
   "source": [
    "#### Time Methods for Date and Time Data\n",
    "[Doc Time Methods](https://pandas.pydata.org/pandas-docs/stable/user_guide/timeseries.html#converting-to-timestamps)\n",
    "\n",
    "[Aula Methods for Date and Time Data](https://meli.udemy.com/course/python-for-machine-learning-data-science-masterclass/learn/lecture/17773038#content)\n",
    "\n",
    "Em Python quando nos deparamos com objetos que possuem data e hora, podemos extrai-los com os métodos existentes em Pandas, extremamente útil em processos de aprendizado de máquina.\n"
   ]
  }
 ],
 "metadata": {
  "kernelspec": {
   "display_name": "Python 3 (ipykernel)",
   "language": "python",
   "name": "python3"
  },
  "language_info": {
   "codemirror_mode": {
    "name": "ipython",
    "version": 3
   },
   "file_extension": ".py",
   "mimetype": "text/x-python",
   "name": "python",
   "nbconvert_exporter": "python",
   "pygments_lexer": "ipython3",
   "version": "3.10.8"
  }
 },
 "nbformat": 4,
 "nbformat_minor": 5
}
